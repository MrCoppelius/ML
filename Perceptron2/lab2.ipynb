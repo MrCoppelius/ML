{
 "cells": [
  {
   "cell_type": "code",
   "execution_count": 1,
   "metadata": {},
   "outputs": [],
   "source": [
    "import numpy as np\n",
    "import math\n",
    "from plotly import tools\n",
    "import plotly.plotly as py\n",
    "import plotly.graph_objs as go\n",
    "\n",
    "class AdaptiveFilter():\n",
    "    def __init__(self, eta=0.01, delay = 5, epochs=50, max_error=10**-6):\n",
    "        self.eta = eta\n",
    "        self.epochs = epochs\n",
    "        self.delay = delay\n",
    "        self.max_error = max_error\n",
    "    def train(self, data, target):\n",
    "        len_data = len(data)\n",
    "        data = np.array(data)\n",
    "        target = np.array(target)\n",
    "        self.w = np.zeros(self.delay)\n",
    "        self.b = 0\n",
    "        self.errors = []\n",
    "        for _ in range(self.epochs):\n",
    "            error = 0\n",
    "            for n in range(0, len_data - self.delay):\n",
    "                data_n = data[n:self.delay + n]\n",
    "                error_n = target[n + self.delay] - self.predict(data_n)\n",
    "                self.w = self.w + self.eta * error_n * data_n\n",
    "                self.b = self.b + self.eta * error_n\n",
    "                error += error_n**2\n",
    "            error = math.sqrt(error/len_data)\n",
    "            if (error < self.max_error):\n",
    "                break\n",
    "            self.errors.append(error)\n",
    "        return self\n",
    "\n",
    "    def net_input(self, X):\n",
    "        return np.dot(X, self.w) + self.b\n",
    "\n",
    "    def predict(self, X):\n",
    "        return self.net_input(np.array(X))\n",
    "    \n",
    "def create_data1(input_signal, t, h):\n",
    "    grid = np.arange(t[0],t[1]+h, h)\n",
    "    x_real = np.array([input_signal(ti) for ti in  grid])\n",
    "    return grid, x_real\n",
    "def create_data3(input_signal,out_signal, t, h):\n",
    "    grid = np.arange(t[0],t[1]+h, h)\n",
    "    x_real = np.array([input_signal(ti) for ti in  grid])\n",
    "    y_real = np.array([out_signal(ti) for ti in  grid])\n",
    "    return grid, x_real, y_real\n",
    "    \n",
    "def predict_data1(net, x_real, delay, t, h):\n",
    "    grid  = np.arange(t[0]+ h*delay,t[1]+h, h)\n",
    "    x_predict = []\n",
    "    for n in range(0, len(x_real) - delay):\n",
    "        x_predict.append(net.predict(x_real[n:n+delay]))\n",
    "    x_predict = np.array(x_predict)\n",
    "    return grid, x_predict\n",
    "def predict_data2(net, input_signal, delay, t, h, shift):\n",
    "    new_t = t\n",
    "    new_t[0] = t[0] + h*shift\n",
    "    new_t[1] = t[1] + h*shift\n",
    "    grid  = np.arange(new_t[0],new_t[1]+h, h)\n",
    "    x_real = [input_signal(ti) for ti in  grid]\n",
    "    x_predict = x_real[:delay]\n",
    "    for n in range(0, len(grid) - delay):\n",
    "        x_predict.append(net.predict(x_predict[n:delay + n]))\n",
    "    x_real = np.array(x_real)\n",
    "    x_predict = np.array(x_predict)\n",
    "    return grid, x_real, x_predict\n",
    "\n",
    "    \n",
    "def predict_data3(net, x_real, delay, t, h):\n",
    "    grid  = np.arange(t[0]+ h*delay,t[1]+h, h)\n",
    "    y_predict = []\n",
    "    for n in range(0, len(x_real) - delay):\n",
    "        y_predict.append(net.predict(x_real[n:n+delay]))\n",
    "    y_predict = np.array(y_predict)\n",
    "    return grid, y_predict\n",
    "\n"
   ]
  },
  {
   "cell_type": "code",
   "execution_count": 20,
   "metadata": {},
   "outputs": [],
   "source": [
    "input_signal = lambda t: math.sin(-2*t**2 + 7*t) - 1/2*math.sin(t)\n",
    "t = [0,4.5]\n",
    "h = 0.025\n",
    "delay = 5\n",
    "data0 = create_data1(input_signal, t, h)\n",
    "net = AdaptiveFilter(epochs = 600, delay = delay)\n",
    "net.train(data0[1], data0[1])\n",
    "data1 = predict_data1(net, data0[1], delay, t, h)\n",
    "data2 = predict_data2(net, input_signal, delay, t, h, 180)\n",
    "input_signal = lambda t: math.sin(t**2 - 6*t + 3) \n",
    "out_signal = lambda t: 1/3*math.sin(t**2 - 6*t - math.pi/6)\n",
    "t = [0, 6]\n",
    "net2 = AdaptiveFilter(epochs = 600, delay = delay)\n",
    "data3 = create_data3(input_signal, out_signal, t, h)\n",
    "net2.train(data3[1],data3[2])\n",
    "data4 = predict_data3(net2, data3[1], delay, t, h)\n",
    "\n",
    "\n"
   ]
  },
  {
   "cell_type": "code",
   "execution_count": 21,
   "metadata": {},
   "outputs": [
    {
     "name": "stdout",
     "output_type": "stream",
     "text": [
      "This is the format of your plot grid:\n",
      "[ (1,1) x1,y1 ]\n",
      "[ (2,1) x2,y2 ]\n",
      "\n"
     ]
    },
    {
     "data": {
      "text/html": [
       "<iframe id=\"igraph\" scrolling=\"no\" style=\"border:none;\" seamless=\"seamless\" src=\"https://plot.ly/~Coppelius/8.embed\" height=\"525px\" width=\"100%\"></iframe>"
      ],
      "text/plain": [
       "<plotly.tools.PlotlyDisplay object>"
      ]
     },
     "execution_count": 21,
     "metadata": {},
     "output_type": "execute_result"
    }
   ],
   "source": [
    "trace0 = go.Scatter(\n",
    "    x=data0[0],\n",
    "    y=data0[1],\n",
    "    name='Real X',\n",
    "    mode = 'lines'\n",
    ")\n",
    "trace1 = go.Scatter(\n",
    "    x=data1[0],\n",
    "    y=data1[1],\n",
    "    name='Predict X',\n",
    "    mode = 'lines'\n",
    ")\n",
    "trace2 = go.Scatter(\n",
    "    x=[i for i in range(1, len(net.errors)+1)],\n",
    "    y=net.errors,\n",
    "    name='Error',\n",
    "    mode = 'lines'\n",
    ")\n",
    "fig = tools.make_subplots(rows=2, cols=1, subplot_titles=('One-step predict', 'Errors by step'))\n",
    "fig.append_trace(trace0, 1, 1)\n",
    "fig.append_trace(trace1, 1, 1)\n",
    "fig.append_trace(trace2, 2, 1)\n",
    "fig['layout']['xaxis2'].update(title='step')\n",
    "fig['layout']['yaxis2'].update(title='error')\n",
    "py.iplot(fig, filename='customizing-subplot-axes')\n",
    "\n"
   ]
  },
  {
   "cell_type": "code",
   "execution_count": 22,
   "metadata": {},
   "outputs": [
    {
     "data": {
      "text/html": [
       "<iframe id=\"igraph\" scrolling=\"no\" style=\"border:none;\" seamless=\"seamless\" src=\"https://plot.ly/~Coppelius/10.embed\" height=\"525px\" width=\"100%\"></iframe>"
      ],
      "text/plain": [
       "<plotly.tools.PlotlyDisplay object>"
      ]
     },
     "execution_count": 22,
     "metadata": {},
     "output_type": "execute_result"
    }
   ],
   "source": [
    "trace3 = go.Scatter(\n",
    "    x=data2[0],\n",
    "    y=data2[2],\n",
    "    name='Predict X',\n",
    "    mode = 'lines'\n",
    ")\n",
    "trace4 = go.Scatter(\n",
    "    x=data2[0],\n",
    "    y=data2[1],\n",
    "    name='Real X',\n",
    "    mode = 'lines'\n",
    ")\n",
    "data = [trace3, trace4]\n",
    "layout = go.Layout(\n",
    "    title='Multi-step prediction')\n",
    "fig = go.Figure(data=data, layout=layout)\n",
    "py.iplot(fig, filename = 'basic-lined', )"
   ]
  },
  {
   "cell_type": "code",
   "execution_count": 5,
   "metadata": {},
   "outputs": [
    {
     "data": {
      "text/html": [
       "<iframe id=\"igraph\" scrolling=\"no\" style=\"border:none;\" seamless=\"seamless\" src=\"https://plot.ly/~Coppelius/10.embed\" height=\"525px\" width=\"100%\"></iframe>"
      ],
      "text/plain": [
       "<plotly.tools.PlotlyDisplay object>"
      ]
     },
     "execution_count": 5,
     "metadata": {},
     "output_type": "execute_result"
    }
   ],
   "source": [
    "trace5 = go.Scatter(\n",
    "    x=data3[0],\n",
    "    y=data3[1],\n",
    "    name='Real X',\n",
    "    mode = 'lines'\n",
    ")\n",
    "trace6 = go.Scatter(\n",
    "    x=data3[0],\n",
    "    y=data3[2],\n",
    "    name='Real Y',\n",
    "    mode = 'lines'\n",
    ")\n",
    "trace7 = go.Scatter(\n",
    "    x=data4[0],\n",
    "    y=data4[1],\n",
    "    name='Predict Y',\n",
    "    mode = 'lines'\n",
    ")\n",
    "data = [trace5, trace6, trace7]\n",
    "layout = go.Layout(\n",
    "    title='Adaptive filter')\n",
    "fig = go.Figure(data=data, layout=layout)\n",
    "py.iplot(fig, filename = 'basic-lined', )"
   ]
  },
  {
   "cell_type": "code",
   "execution_count": null,
   "metadata": {},
   "outputs": [],
   "source": []
  }
 ],
 "metadata": {
  "kernelspec": {
   "display_name": "Python 3",
   "language": "python",
   "name": "python3"
  },
  "language_info": {
   "codemirror_mode": {
    "name": "ipython",
    "version": 3
   },
   "file_extension": ".py",
   "mimetype": "text/x-python",
   "name": "python",
   "nbconvert_exporter": "python",
   "pygments_lexer": "ipython3",
   "version": "3.6.4"
  }
 },
 "nbformat": 4,
 "nbformat_minor": 2
}
