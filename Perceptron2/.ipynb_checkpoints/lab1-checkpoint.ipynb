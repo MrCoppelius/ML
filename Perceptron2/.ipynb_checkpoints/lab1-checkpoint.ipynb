{
 "cells": [
  {
   "cell_type": "code",
   "execution_count": 57,
   "metadata": {},
   "outputs": [
    {
     "data": {
      "image/png": "[encoded data removed]",
      "text/plain": [
       "<matplotlib.figure.Figure at 0x21320ea1240>"
      ]
     },
     "metadata": {},
     "output_type": "display_data"
    },
    {
     "data": {
      "image/png": "[encoded data removed]",
      "text/plain": [
       "<matplotlib.figure.Figure at 0x2131e4e2048>"
      ]
     },
     "metadata": {},
     "output_type": "display_data"
    }
   ],
   "source": [
    "import numpy as np\n",
    "import matplotlib.pyplot as plt\n",
    "\n",
    "\n",
    "class AdaptiveFilter():\n",
    "\n",
    "    def __init__(self, eta=0.01, D = 5, epoch=50):\n",
    "        self.eta = eta\n",
    "        self.epoch = epoch\n",
    "        self.D = D\n",
    "    def train(self, X, t):\n",
    "        N = len(X)\n",
    "        x = np.array(x)\n",
    "        t = np.array(t)\n",
    "        w = np.zeros(K)\n",
    "        b = 0\n",
    "        e = np.zeros(N-K)\n",
    "        for _ in range(epoch):\n",
    "            for n in range(0, N-K):\n",
    "                xn = x[n+K:n:-1]\n",
    "                en = t[n+K] - (np.dot(xn , w) + b) \n",
    "                w = w + eta * en * xn \n",
    "                b = b \n",
    "                e[n] = en\n",
    "        return self\n",
    "\n",
    "    def net_input(self, X):\n",
    "        return np.dot(X, self.w_[1:]) + self.w_[0]\n",
    "\n",
    "    def predict(self, X):\n",
    "        return np.where(self.net_input(X) < 0.0, 0, 1)\n",
    "\n",
    "\n",
    "            \n",
    "def print_res(X, net):\n",
    "    h = .01 \n",
    "    x_min, x_max = X[:, 0].min() - 1, X[:, 0].max() + 1\n",
    "    y_min, y_max = X[:, 1].min() - 1, X[:, 1].max() + 1\n",
    "    xx, yy = np.meshgrid(np.arange(x_min, x_max, h),\n",
    "                         np.arange(y_min, y_max, h))\n",
    "    \n",
    "    \n",
    "    fig, ax = plt.subplots()\n",
    "    \n",
    "    Z = net.predict(np.c_[xx.ravel(), yy.ravel()])\n",
    "    Z = Z.reshape(xx.shape) \n",
    "    ax.contourf(xx, yy, Z)\n",
    "    \n",
    "    ax.scatter(X[:, 0], X[:, 1], color = 'b')\n",
    "    \n",
    "\n",
    "def main():\n",
    "    X = np.array([[3,-3.8, -1.8, -1.1, -3.2, -4.8], \n",
    "                  [2.4, 0.2, 0.4, -0.9, -2.5, 4.2]])\n",
    "    Y = np.array([0, 1, 1, 1, 1, 0])\n",
    "    X = np.transpose(X)\n",
    "    \n",
    "    \n",
    "    net = Net(epochs=50, eta=0.1)\n",
    "    net.train(X,Y)\n",
    "    print_res(X, net)\n",
    "    \n",
    "    '''ppn = Perceptron(epochs=50, eta=0.1)\n",
    "    \n",
    "    \n",
    "    ppn.train(X, Y)\n",
    "    print(ppn.w_)\n",
    "    \n",
    "    print_res(X, ppn)\n",
    "    \n",
    "\n",
    "    \n",
    "    X = np.array([[2, 2.3, 0.4, -1.9, -3.2, -0.4, 4.1, -5],\n",
    "                 [-1.3, 4.5, 0.4, -4.3, -4.1, -5, 1.4, -4.7]])\n",
    "    Y = np.array([[0, 0, 0, 1, 1, 1, 0, 1],\n",
    "                  [1, 0, 0, 0, 0, 1, 1, 0]])\n",
    "    X = np.transpose(X)\n",
    "    ppn1 = Perceptron(epochs=10, eta=0.1)\n",
    "    ppn2 = Perceptron(epochs=10, eta=0.1)\n",
    "    ppn1.train(X, Y[0])\n",
    "    ppn2.train(X, Y[1])\n",
    "    print_res(X, ppn1, ppn2)'''\n",
    "    X = np.array([[2, 2.3, 0.4, -1.9, -3.2, -0.4, 4.1, -5],\n",
    "                 [-1.3, 4.5, 0.4, -4.3, -4.1, -5, 1.4, -4.7]])\n",
    "    Y = np.array([[0, 0, 0, 1, 1, 1, 0, 1],\n",
    "                  [1, 0, 0, 0, 0, 1, 1, 0]])\n",
    "    X = np.transpose(X)\n",
    "    net = Net(epochs=50, eta=0.1)\n",
    "    net.train(X,Y)\n",
    "    print_res(X, net)\n",
    "    \n",
    "    \n",
    "if __name__ == '__main__':\n",
    "    main()"
   ]
  },
  {
   "cell_type": "code",
   "execution_count": null,
   "metadata": {},
   "outputs": [],
   "source": []
  },
  {
   "cell_type": "code",
   "execution_count": null,
   "metadata": {},
   "outputs": [],
   "source": []
  },
  {
   "cell_type": "code",
   "execution_count": null,
   "metadata": {},
   "outputs": [],
   "source": []
  }
 ],
 "metadata": {
  "kernelspec": {
   "display_name": "Python 3",
   "language": "python",
   "name": "python3"
  },
  "language_info": {
   "codemirror_mode": {
    "name": "ipython",
    "version": 3
   },
   "file_extension": ".py",
   "mimetype": "text/x-python",
   "name": "python",
   "nbconvert_exporter": "python",
   "pygments_lexer": "ipython3",
   "version": "3.6.4"
  }
 },
 "nbformat": 4,
 "nbformat_minor": 2
}
