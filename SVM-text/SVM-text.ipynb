{
 "cells": [
  {
   "cell_type": "code",
   "execution_count": 3,
   "metadata": {},
   "outputs": [],
   "source": [
    "from sklearn import datasets\n",
    "from sklearn.svm import SVC\n",
    "from sklearn.feature_extraction.text import TfidfVectorizer\n",
    "from sklearn.model_selection import KFold\n",
    "from sklearn.model_selection import GridSearchCV\n",
    "import numpy as np\n",
    "import pandas as pd\n",
    "\n"
   ]
  },
  {
   "cell_type": "code",
   "execution_count": 9,
   "metadata": {},
   "outputs": [
    {
     "data": {
      "text/plain": [
       "\"From: kempmp@phoenix.oulu.fi (Petri Pihko)\\nSubject: Re: Christian Morality is\\nOrganization: University of Oulu, Finland\\nX-Newsreader: TIN [version 1.1 PL9]\\nLines: 107\\n\\nDan Schaertel,,, (dps@nasa.kodak.com) wrote:\\n> In article 21627@ousrvr.oulu.fi, kempmp@phoenix.oulu.fi (Petri Pihko) writes:\\n\\n> |>I love god just as much as she loves me. If she wants to seduce me,\\n> |>she'll know what to do. \\n\\n> But if He/She did you would probably consider it rape.  \\n\\nOf course not. I would think that would be great _fun_, not having ever\\nfelt the joy and peace the Christians speak of with a longing gaze.\\nThis is not what I got when I believed - I just tried to hide my fear\\nof getting punished for something I never was sure of. The Bible is\\nhopelessly confusing for someone who wants to know for sure. God did\\nnot answer. In the end, I found I had been following a mass delusion,\\na lie. I can't believe in a being who refuses to give a slightest hint\\nof her existence.\\n\\n> Obviously there are many Christians who have tried and do believe. So .. ?\\n\\nI suggest they should honestly reconsider the reasons why they believe\\nand analyse their position. In fact, it is amusing to note in this\\ncontext that many fundamentalist publications tell us exactly the\\nopposite - one should not examine one's belief critically.\\n\\nI'll tell you something I left out of my 'testimony' I posted to this\\ngroup two months ago. A day after I finally found out my faith is over,\\nI decided to try just one more time. The same cycle of emotional\\nresponses fired once again, but this time the delusion lasted only\\na couple of hours. I told my friend in a phone that it really works,\\nthank god, just to think about it again when I hung up. I had to admit\\nthat I had lied, and fallen prey to the same illusion.\\n\\n> No one asks you to swallow everything, in fact Jesus warns against it.   But let\\n> me ask you a question.  Do you beleive what you learn in history class, or for\\n> that matter anything in school.  I mean it's just what other people have told\\n> you and you don't want to swallow what others say. right ... ?\\n\\nI used to believe what I read in books when I was younger, or what\\nother people told me, but I grew more and more skeptical the more I\\nread. I learned what it means to use _reason_.\\n\\nAs a student of chemistry, I had to perform a qualitative analysis\\nof a mixture of two organic compounds in the lab. I _hated_ experiments\\nlike this - they are old-fashioned and increase the student's workload\\nconsiderably. Besides, I had to do it twice, since I failed in my first\\nattempt. However, I think I'll never forget the lesson: \\n\\nNo matter how strongly you believe the structure of the unknown is X,\\nit may still be Y. It is _very_ tempting to jump into conclusions, take\\na leap of faith, assure oneself, ignore the data which is inconsistent. \\nBut it can still be wrong. \\n\\nI found out that I was, after all, using exactly the same mechanism\\nto believe in god - mental self-assurance, suspension of fear, \\nfiltering of information. In other words, it was only me, no god\\nplaying any part. \\n\\n> The life , death, and resurection of Christ is documented historical fact.\\n\\nOh? And I had better believe this? Dan, many UFO stories are much better\\ndocumented than the resurrection of Jesus. The resurrection is documented\\nquite haphazardly in the Bible - it seems the authors did not pay too\\nmuch attention to which wild rumour to leave out. Besides, the ends of\\nthe gospels probably contain later additions and insertions; for instance,\\nthe end of Mark (16:9-20) is missing from many early texts, says my Bible.\\n\\nJesus may have lived and died, but he was probably misunderstood.\\n\\n> As much\\n> as anything else you learn.  How do you choose what to believe and \\n> what not to?\\n\\nThis is easy. I believe that the world exists independent of my mind,\\nand that logic and reason can be used to interpret and analyse what I\\nobserve. Nothing else need to be taken on faith, I will go by the\\nevidence. \\n\\nIt makes no difference whether I believe George Washington existed or not.\\nI assume that he did, considering the vast amount of evidence presented.\\n\\n> There is no way to get into a sceptical heart.  You can not say you have \\n> given a \\n> sincere effort with the attitude you seem to have.  You must TRUST, \\n> not just go \\n> to church and participate in it's activities.  Were you ever willing to\\n> die for what you believed?  \\n\\nA liar, how do you know what my attitude was? Try reading your Bible\\nagain. \\n\\nI was willing to die for my faith. Those who do are usually remembered\\nas heroes, at least among those who believe. Dan, do you think I'm\\nlying when I say I believed firmly for 15 years? It seems it is \\nvery difficult to admit that someone who has really believed does not\\ndo so anymore. But I can't go on lying to myself.\\n\\nBlind trust is dangerous, and I was just another blind led by the blind.\\nBut if god really wants me, she'll know what to do. I'm willing. I just\\ndon't know whether she exists - looking at the available evidence,\\nit looks like she doesn't. \\n\\nPetri\\n--\\n ___. .'*''.*        Petri Pihko    kem-pmp@          Mathematics is the Truth.\\n!___.'* '.'*' ' .    Pihatie 15 C    finou.oulu.fi    Physics is the Rule of\\n       ' *' .* '*    SF-90650 OULU  kempmp@           the Game.\\n          *'  *  .*  FINLAND         phoenix.oulu.fi  -> Chemistry is The Game.\\n\""
      ]
     },
     "execution_count": 9,
     "metadata": {},
     "output_type": "execute_result"
    }
   ],
   "source": [
    "newsgroups = datasets.fetch_20newsgroups(\n",
    "                    subset='all', \n",
    "                    categories=['alt.atheism', 'sci.space']\n",
    "             )\n",
    "newsgroups.data[1]"
   ]
  },
  {
   "cell_type": "code",
   "execution_count": 40,
   "metadata": {},
   "outputs": [],
   "source": [
    "vectorizer = TfidfVectorizer()"
   ]
  },
  {
   "cell_type": "code",
   "execution_count": 225,
   "metadata": {},
   "outputs": [],
   "source": [
    "X = vectorizer.fit_transform(newsgroups.data)\n",
    "y = newsgroups.target"
   ]
  },
  {
   "cell_type": "code",
   "execution_count": 83,
   "metadata": {},
   "outputs": [
    {
     "data": {
      "text/plain": [
       "GridSearchCV(cv=KFold(n_splits=5, random_state=241, shuffle=True),\n",
       "       error_score='raise',\n",
       "       estimator=SVC(C=1.0, cache_size=200, class_weight=None, coef0=0.0,\n",
       "  decision_function_shape='ovr', degree=3, gamma='auto', kernel='linear',\n",
       "  max_iter=-1, probability=False, random_state=241, shrinking=True,\n",
       "  tol=0.001, verbose=False),\n",
       "       fit_params=None, iid=True, n_jobs=1,\n",
       "       param_grid={'C': array([1.e-05, 1.e-04, 1.e-03, 1.e-02, 1.e-01, 1.e+00, 1.e+01, 1.e+02,\n",
       "       1.e+03, 1.e+04, 1.e+05])},\n",
       "       pre_dispatch='2*n_jobs', refit=True, return_train_score='warn',\n",
       "       scoring='accuracy', verbose=0)"
      ]
     },
     "execution_count": 83,
     "metadata": {},
     "output_type": "execute_result"
    }
   ],
   "source": [
    "grid = {'C': np.power(10.0, np.arange(-5, 6))}\n",
    "cv = KFold(n_splits=5, shuffle=True, random_state=241)\n",
    "clf = SVC(kernel='linear', random_state=241)\n",
    "gs = GridSearchCV(clf, grid, scoring='accuracy', cv=cv)\n",
    "gs.fit(X,y)"
   ]
  },
  {
   "cell_type": "code",
   "execution_count": 89,
   "metadata": {},
   "outputs": [
    {
     "name": "stderr",
     "output_type": "stream",
     "text": [
      "C:\\Users\\RED\\Anaconda3\\lib\\site-packages\\sklearn\\utils\\deprecation.py:122: FutureWarning: You are accessing a training score ('split0_train_score'), which will not be available by default any more in 0.21. If you need training scores, please set return_train_score=True\n",
      "  warnings.warn(*warn_args, **warn_kwargs)\n",
      "C:\\Users\\RED\\Anaconda3\\lib\\site-packages\\sklearn\\utils\\deprecation.py:122: FutureWarning: You are accessing a training score ('split1_train_score'), which will not be available by default any more in 0.21. If you need training scores, please set return_train_score=True\n",
      "  warnings.warn(*warn_args, **warn_kwargs)\n",
      "C:\\Users\\RED\\Anaconda3\\lib\\site-packages\\sklearn\\utils\\deprecation.py:122: FutureWarning: You are accessing a training score ('split2_train_score'), which will not be available by default any more in 0.21. If you need training scores, please set return_train_score=True\n",
      "  warnings.warn(*warn_args, **warn_kwargs)\n",
      "C:\\Users\\RED\\Anaconda3\\lib\\site-packages\\sklearn\\utils\\deprecation.py:122: FutureWarning: You are accessing a training score ('split3_train_score'), which will not be available by default any more in 0.21. If you need training scores, please set return_train_score=True\n",
      "  warnings.warn(*warn_args, **warn_kwargs)\n",
      "C:\\Users\\RED\\Anaconda3\\lib\\site-packages\\sklearn\\utils\\deprecation.py:122: FutureWarning: You are accessing a training score ('split4_train_score'), which will not be available by default any more in 0.21. If you need training scores, please set return_train_score=True\n",
      "  warnings.warn(*warn_args, **warn_kwargs)\n",
      "C:\\Users\\RED\\Anaconda3\\lib\\site-packages\\sklearn\\utils\\deprecation.py:122: FutureWarning: You are accessing a training score ('mean_train_score'), which will not be available by default any more in 0.21. If you need training scores, please set return_train_score=True\n",
      "  warnings.warn(*warn_args, **warn_kwargs)\n",
      "C:\\Users\\RED\\Anaconda3\\lib\\site-packages\\sklearn\\utils\\deprecation.py:122: FutureWarning: You are accessing a training score ('std_train_score'), which will not be available by default any more in 0.21. If you need training scores, please set return_train_score=True\n",
      "  warnings.warn(*warn_args, **warn_kwargs)\n"
     ]
    }
   ],
   "source": [
    "result = pd.DataFrame(gs.cv_results_)"
   ]
  },
  {
   "cell_type": "code",
   "execution_count": 106,
   "metadata": {},
   "outputs": [],
   "source": [
    "C = gs.best_params_['C']"
   ]
  },
  {
   "cell_type": "code",
   "execution_count": 107,
   "metadata": {},
   "outputs": [],
   "source": [
    "clf = SVC(C=C, kernel='linear', random_state=241)"
   ]
  },
  {
   "cell_type": "code",
   "execution_count": 109,
   "metadata": {},
   "outputs": [
    {
     "data": {
      "text/plain": [
       "SVC(C=1.0, cache_size=200, class_weight=None, coef0=0.0,\n",
       "  decision_function_shape='ovr', degree=3, gamma='auto', kernel='linear',\n",
       "  max_iter=-1, probability=False, random_state=241, shrinking=True,\n",
       "  tol=0.001, verbose=False)"
      ]
     },
     "execution_count": 109,
     "metadata": {},
     "output_type": "execute_result"
    }
   ],
   "source": [
    "clf.fit(X, y) "
   ]
  },
  {
   "cell_type": "code",
   "execution_count": 10,
   "metadata": {},
   "outputs": [
    {
     "ename": "NameError",
     "evalue": "name 'clf' is not defined",
     "output_type": "error",
     "traceback": [
      "\u001b[1;31m---------------------------------------------------------------------------\u001b[0m",
      "\u001b[1;31mNameError\u001b[0m                                 Traceback (most recent call last)",
      "\u001b[1;32m<ipython-input-10-6e2174a803fd>\u001b[0m in \u001b[0;36m<module>\u001b[1;34m()\u001b[0m\n\u001b[1;32m----> 1\u001b[1;33m \u001b[0mres\u001b[0m \u001b[1;33m=\u001b[0m \u001b[0mnp\u001b[0m\u001b[1;33m.\u001b[0m\u001b[0mabsolute\u001b[0m\u001b[1;33m(\u001b[0m\u001b[0mclf\u001b[0m\u001b[1;33m.\u001b[0m\u001b[0mcoef_\u001b[0m\u001b[1;33m.\u001b[0m\u001b[0mtoarray\u001b[0m\u001b[1;33m(\u001b[0m\u001b[1;33m)\u001b[0m\u001b[1;33m)\u001b[0m\u001b[1;33m.\u001b[0m\u001b[0margsort\u001b[0m\u001b[1;33m(\u001b[0m\u001b[1;33m)\u001b[0m\u001b[1;33m\u001b[0m\u001b[0m\n\u001b[0m\u001b[0;32m      2\u001b[0m \u001b[0mres\u001b[0m \u001b[1;33m=\u001b[0m \u001b[0mres\u001b[0m\u001b[1;33m.\u001b[0m\u001b[0mreshape\u001b[0m\u001b[1;33m(\u001b[0m\u001b[0mres\u001b[0m\u001b[1;33m.\u001b[0m\u001b[0mshape\u001b[0m\u001b[1;33m[\u001b[0m\u001b[1;36m1\u001b[0m\u001b[1;33m]\u001b[0m\u001b[1;33m)\u001b[0m\u001b[1;33m\u001b[0m\u001b[0m\n\u001b[0;32m      3\u001b[0m \u001b[0mpattern\u001b[0m \u001b[1;33m=\u001b[0m \u001b[1;34mr\"[^\\w]\"\u001b[0m\u001b[1;33m\u001b[0m\u001b[0m\n",
      "\u001b[1;31mNameError\u001b[0m: name 'clf' is not defined"
     ]
    }
   ],
   "source": [
    "res = np.absolute(clf.coef_.toarray()).argsort()\n",
    "res = res.reshape(res.shape[1])\n"
   ]
  },
  {
   "cell_type": "code",
   "execution_count": 230,
   "metadata": {},
   "outputs": [
    {
     "name": "stdout",
     "output_type": "stream",
     "text": [
      "sci\n",
      "keith\n",
      "bible\n",
      "religion\n",
      "sky\n",
      "moon\n",
      "atheists\n",
      "atheism\n",
      "god\n",
      "space\n"
     ]
    }
   ],
   "source": [
    "for i in res[-10:]:\n",
    "    print(vectorizer.get_feature_names()[i])"
   ]
  }
 ],
 "metadata": {
  "kernelspec": {
   "display_name": "Python 3",
   "language": "python",
   "name": "python3"
  },
  "language_info": {
   "codemirror_mode": {
    "name": "ipython",
    "version": 3
   },
   "file_extension": ".py",
   "mimetype": "text/x-python",
   "name": "python",
   "nbconvert_exporter": "python",
   "pygments_lexer": "ipython3",
   "version": "3.6.4"
  }
 },
 "nbformat": 4,
 "nbformat_minor": 2
}
