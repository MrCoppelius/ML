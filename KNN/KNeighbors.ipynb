{
 "cells": [
  {
   "cell_type": "code",
   "execution_count": 32,
   "metadata": {},
   "outputs": [],
   "source": [
    "import pandas as pd\n",
    "import numpy as np\n",
    "from sklearn.model_selection import KFold\n",
    "from sklearn.model_selection import cross_val_score\n",
    "from sklearn.neighbors import KNeighborsClassifier\n",
    "from sklearn.preprocessing import scale"
   ]
  },
  {
   "cell_type": "code",
   "execution_count": 14,
   "metadata": {},
   "outputs": [],
   "source": [
    "vine_dataset = np.loadtxt('_805605c804bae8c5c24785f433b230ce_wine.data', delimiter = ',')"
   ]
  },
  {
   "cell_type": "code",
   "execution_count": 18,
   "metadata": {},
   "outputs": [
    {
     "data": {
      "text/plain": [
       "array([1., 1., 1., 1., 1., 1., 1., 1., 1., 1., 1., 1., 1., 1., 1., 1., 1.,\n",
       "       1., 1., 1., 1., 1., 1., 1., 1., 1., 1., 1., 1., 1., 1., 1., 1., 1.,\n",
       "       1., 1., 1., 1., 1., 1., 1., 1., 1., 1., 1., 1., 1., 1., 1., 1., 1.,\n",
       "       1., 1., 1., 1., 1., 1., 1., 1., 2., 2., 2., 2., 2., 2., 2., 2., 2.,\n",
       "       2., 2., 2., 2., 2., 2., 2., 2., 2., 2., 2., 2., 2., 2., 2., 2., 2.,\n",
       "       2., 2., 2., 2., 2., 2., 2., 2., 2., 2., 2., 2., 2., 2., 2., 2., 2.,\n",
       "       2., 2., 2., 2., 2., 2., 2., 2., 2., 2., 2., 2., 2., 2., 2., 2., 2.,\n",
       "       2., 2., 2., 2., 2., 2., 2., 2., 2., 2., 2., 3., 3., 3., 3., 3., 3.,\n",
       "       3., 3., 3., 3., 3., 3., 3., 3., 3., 3., 3., 3., 3., 3., 3., 3., 3.,\n",
       "       3., 3., 3., 3., 3., 3., 3., 3., 3., 3., 3., 3., 3., 3., 3., 3., 3.,\n",
       "       3., 3., 3., 3., 3., 3., 3., 3.])"
      ]
     },
     "execution_count": 18,
     "metadata": {},
     "output_type": "execute_result"
    }
   ],
   "source": [
    "vine_dataset[:,0]"
   ]
  },
  {
   "cell_type": "code",
   "execution_count": 36,
   "metadata": {},
   "outputs": [],
   "source": [
    "kf = KFold(n_splits=5, random_state=42, shuffle=True)\n",
    "res = []\n",
    "res_scale = []\n",
    "X = scale(vine_dataset[:,1:])\n"
   ]
  },
  {
   "cell_type": "code",
   "execution_count": 43,
   "metadata": {},
   "outputs": [],
   "source": [
    "for k in range(1,50):\n",
    "    neigh = KNeighborsClassifier(n_neighbors=k)\n",
    "    res.append(np.average(cross_val_score(neigh,vine_dataset[:,1:],vine_dataset[:,0], cv = kf)))\n",
    "    res_scale.append(np.average(cross_val_score(neigh,X,vine_dataset[:,0], cv = kf)))\n",
    "    "
   ]
  },
  {
   "cell_type": "code",
   "execution_count": 44,
   "metadata": {},
   "outputs": [
    {
     "data": {
      "text/plain": [
       "0"
      ]
     },
     "execution_count": 44,
     "metadata": {},
     "output_type": "execute_result"
    }
   ],
   "source": [
    "np.argmax(res)"
   ]
  },
  {
   "cell_type": "code",
   "execution_count": 42,
   "metadata": {},
   "outputs": [
    {
     "name": "stdout",
     "output_type": "stream",
     "text": [
      "[0.943968253968254, 0.9328571428571429, 0.9550793650793651, 0.9382539682539683, 0.9493650793650794, 0.9495238095238095, 0.9495238095238095, 0.9552380952380952, 0.9607936507936508, 0.9607936507936508, 0.9609523809523809, 0.9552380952380952, 0.9495238095238093, 0.9663492063492063, 0.9720634920634922, 0.9720634920634922, 0.9665079365079364, 0.9665079365079364, 0.9553968253968254, 0.9665079365079364, 0.9609523809523811, 0.9665079365079364, 0.9609523809523809, 0.9552380952380952, 0.9552380952380952, 0.9607936507936508, 0.9552380952380952, 0.9663492063492063, 0.9776190476190475, 0.9607936507936508, 0.9552380952380952, 0.9607936507936508, 0.9663492063492063, 0.9663492063492063, 0.9607936507936508, 0.9607936507936508, 0.9552380952380952, 0.9607936507936508, 0.9607936507936508, 0.9607936507936508, 0.9663492063492063, 0.9607936507936508, 0.9663492063492063, 0.9606349206349206, 0.9663492063492063, 0.9495238095238095, 0.9550793650793651, 0.9495238095238095, 0.9550793650793651]\n"
     ]
    }
   ],
   "source": [
    "print(res_scale)"
   ]
  },
  {
   "cell_type": "code",
   "execution_count": null,
   "metadata": {},
   "outputs": [],
   "source": []
  }
 ],
 "metadata": {
  "kernelspec": {
   "display_name": "Python 3",
   "language": "python",
   "name": "python3"
  },
  "language_info": {
   "codemirror_mode": {
    "name": "ipython",
    "version": 3
   },
   "file_extension": ".py",
   "mimetype": "text/x-python",
   "name": "python",
   "nbconvert_exporter": "python",
   "pygments_lexer": "ipython3",
   "version": "3.6.4"
  }
 },
 "nbformat": 4,
 "nbformat_minor": 2
}
