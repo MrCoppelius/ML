{
 "cells": [
  {
   "cell_type": "code",
   "execution_count": 3,
   "metadata": {},
   "outputs": [],
   "source": [
    "from sklearn.metrics import roc_auc_score\n",
    "import numpy as np\n",
    "import pandas as pd\n",
    "\n",
    "\n",
    "data_logistic = pd.read_csv('data-logistic.csv', header=None)"
   ]
  },
  {
   "cell_type": "code",
   "execution_count": 4,
   "metadata": {},
   "outputs": [],
   "source": [
    "y = data_logistic.values[:,0]\n",
    "X = data_logistic.values[:,1:]"
   ]
  },
  {
   "cell_type": "code",
   "execution_count": 67,
   "metadata": {},
   "outputs": [],
   "source": [
    "class Logistic_regression:\n",
    "    \n",
    "    def __init__(self, k = 0.1, C=0, epochs = 10000, eps = 1e-5):\n",
    "        self.k = k\n",
    "        self.C = C\n",
    "        self.epochs = epochs\n",
    "        self.eps = eps\n",
    "        self.w = np.zeros(2)\n",
    "        \n",
    "    def fit(self,X,y):\n",
    "        l = y.shape[0]\n",
    "        w_old = self.w+1\n",
    "        i = 0\n",
    "        while (np.absolute(w_old - self.w).any() > self.eps):\n",
    "            if (i > self.epochs):\n",
    "                break\n",
    "            i += 1\n",
    "            w_old = self.w\n",
    "            self.w = (self.w - self.C * self.k * self.w + 1/l * self.k * \n",
    "                sum(y[i] * X[i] * (1 - 1/(1+np.exp(-y[i]*np.matmul(self.w,X[i])))) for i in range(l)))\n",
    "        print(\"Number of iteration:\", i)\n",
    "    def predict(self, X, class_number = 1):\n",
    "        return 1/(1+np.exp(- class_number * np.matmul(X,self.w)))"
   ]
  },
  {
   "cell_type": "code",
   "execution_count": 68,
   "metadata": {},
   "outputs": [],
   "source": [
    "log_reg = Logistic_regression(C=10)"
   ]
  },
  {
   "cell_type": "code",
   "execution_count": 69,
   "metadata": {},
   "outputs": [
    {
     "name": "stdout",
     "output_type": "stream",
     "text": [
      "Number of iteration: 30\n"
     ]
    }
   ],
   "source": [
    "log_reg.fit(X,y)\n"
   ]
  },
  {
   "cell_type": "code",
   "execution_count": 74,
   "metadata": {},
   "outputs": [],
   "source": [
    "y_predict = log_reg.predict(X)"
   ]
  },
  {
   "cell_type": "code",
   "execution_count": 75,
   "metadata": {},
   "outputs": [
    {
     "data": {
      "text/plain": [
       "0.9362857142857142"
      ]
     },
     "execution_count": 75,
     "metadata": {},
     "output_type": "execute_result"
    }
   ],
   "source": [
    "roc_auc_score(y, y_predict)"
   ]
  },
  {
   "cell_type": "code",
   "execution_count": null,
   "metadata": {},
   "outputs": [],
   "source": []
  }
 ],
 "metadata": {
  "kernelspec": {
   "display_name": "Python 3",
   "language": "python",
   "name": "python3"
  },
  "language_info": {
   "codemirror_mode": {
    "name": "ipython",
    "version": 3
   },
   "file_extension": ".py",
   "mimetype": "text/x-python",
   "name": "python",
   "nbconvert_exporter": "python",
   "pygments_lexer": "ipython3",
   "version": "3.6.4"
  }
 },
 "nbformat": 4,
 "nbformat_minor": 2
}
